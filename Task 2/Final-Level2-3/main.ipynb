{
 "cells": [
  {
   "cell_type": "code",
   "execution_count": 1,
   "id": "805526de",
   "metadata": {},
   "outputs": [],
   "source": [
    "from typing import Annotated, Literal\n",
    "from pydantic import BaseModel, Field\n",
    "from typing_extensions import TypedDict\n",
    "from langgraph.graph import StateGraph, START, END\n",
    "from langgraph.graph.message import add_messages\n",
    "from langchain.chat_models import init_chat_model\n",
    "from dotenv import load_dotenv\n",
    "import os\n",
    "from langchain.agents import create_tool_calling_agent, AgentExecutor\n",
    "from langchain.schema import HumanMessage, AIMessage, BaseMessage\n",
    "from langchain.tools import tool\n",
    "import requests\n",
    "from langgraph.prebuilt import tools_condition,ToolNode"
   ]
  },
  {
   "cell_type": "code",
   "execution_count": 3,
   "id": "60f7404b",
   "metadata": {},
   "outputs": [],
   "source": [
    "load_dotenv()\n",
    "\n",
    "# Initialize Gemini model\n",
    "llm = init_chat_model(\"google_genai:gemini-2.0-flash\")\n"
   ]
  },
  {
   "cell_type": "code",
   "execution_count": 4,
   "id": "cdd755fa",
   "metadata": {},
   "outputs": [],
   "source": [
    "\n",
    "class State(TypedDict):\n",
    "    messages: Annotated[list, add_messages]\n",
    "\n",
    "graph_builder = StateGraph(State)"
   ]
  },
  {
   "cell_type": "markdown",
   "id": "043e3b42-ca78-4df9-b23c-0dc95afd13e5",
   "metadata": {},
   "source": [
    "## Defining tools\n"
   ]
  },
  {
   "cell_type": "code",
   "execution_count": 6,
   "id": "e6b9f8f5",
   "metadata": {},
   "outputs": [],
   "source": [
    "@tool\n",
    "def weather_tool(city: str) -> str:\n",
    "    \"\"\"\n",
    "    Taking city name or location as string input and fetching the temperature, pressure, humidity and weather description.\n",
    "    \"\"\"\n",
    "    weather_api_key = os.environ.get(\"WEATHER_API_KEY\")\n",
    "    base_url = \"http://api.openweathermap.org/data/2.5/weather?\"\n",
    "    complete_url = base_url +\"units=metric\" \"&appid=\" + weather_api_key + \"&q=\" + city\n",
    "    \n",
    "    try:\n",
    "        response = requests.get(complete_url)\n",
    "        x = response.json()\n",
    "\n",
    "        if x[\"cod\"] != \"404\":\n",
    "            y = x[\"main\"]\n",
    "            current_temperature = y[\"temp\"]\n",
    "            current_temperature_feeling = y[\"feels_like\"]\n",
    "            current_humidity = y[\"humidity\"]\n",
    "            z = x[\"weather\"]\n",
    "            weather_description = z[0][\"description\"]\n",
    "\n",
    "            return (f\"Temperature (in Celsius unit) = {current_temperature}\\n\"\n",
    "                    f\"Temperature feels like = {current_temperature_feeling}\\n\"\n",
    "                    f\"Humidity (in percentage) = {current_humidity}\\n\"\n",
    "                    f\"Weather = {weather_description}\")\n",
    "        else:\n",
    "            return f\"City not found or weather data unavailable.\"\n",
    "    except requests.exceptions.RequestException as e:\n",
    "        return f\"Error fetching weather data: {e}\"\n",
    "    except Exception as e:\n",
    "        return f\"An unexpected error occurred: {e}\"\n",
    "\n"
   ]
  },
  {
   "cell_type": "code",
   "execution_count": 7,
   "id": "8b669aa9",
   "metadata": {},
   "outputs": [],
   "source": [
    "from langchain_tavily import TavilySearch\n",
    "\n",
    "tavily_tool = TavilySearch(\n",
    "    max_results=5,\n",
    "    topic=\"general\",\n",
    "    # include_answer=False,\n",
    "    # include_raw_content=False,\n",
    "    # include_images=False,\n",
    "    # include_image_descriptions=False,\n",
    "    # search_depth=\"basic\",\n",
    "    # time_range=\"day\",\n",
    "    # include_domains=None,\n",
    "    # exclude_domains=None\n",
    ")"
   ]
  },
  {
   "cell_type": "code",
   "execution_count": 11,
   "id": "82a7ee09",
   "metadata": {},
   "outputs": [],
   "source": [
    "@tool\n",
    "def calculator_tool(exp: str) -> float:\n",
    "    \"\"\"\n",
    "    Evaluating an arithmetic expression using bodmas consisting of '+','-','*','/','(',')','[',']','{','}'.\n",
    "    \"\"\"\n",
    "    try:\n",
    "        return eval(exp)\n",
    "    except Exception as e:\n",
    "        return f\"Error evaluating expression: {e}\""
   ]
  },
  {
   "cell_type": "code",
   "execution_count": 13,
   "id": "dc0ca06d",
   "metadata": {},
   "outputs": [],
   "source": [
    "tools = [tavily_tool, weather_tool, calculator_tool]"
   ]
  },
  {
   "cell_type": "markdown",
   "id": "9bfb0b84-ffa3-439f-b551-59ba6eff24a9",
   "metadata": {},
   "source": [
    "## Defining system prompt.. How langchain will use these tools"
   ]
  },
  {
   "cell_type": "code",
   "execution_count": 17,
   "id": "00f1537e-958b-46b9-a702-6588ba799726",
   "metadata": {},
   "outputs": [],
   "source": [
    "from langchain.prompts import ChatPromptTemplate\n",
    "prompt = ChatPromptTemplate.from_messages(\n",
    "    [\n",
    "        (\n",
    "            \"system\",\n",
    "            \"You are WeatherMind, an advanced AI assistant developed for Project SkyLink. \"\n",
    "            \"Your primary goal is to perceive the world, interpret human queries, and deliver precise, contextual responses. \"\n",
    "            \"You are equipped with powerful tools to achieve this:\\n\\n\"\n",
    "            \"- **`weather_tool`**: Specifically designed to fetch current weather conditions (temperature, humidity, description) for any given city or location. Use this *only* for weather-related queries.\\n\"\n",
    "            \"- **`calculator_tool`**: Dedicated to evaluating complex arithmetic expressions, strictly following BODMAS rules. Use this *only* for mathematical calculations involving numbers and operators. If what the user asks for requires any calculation use this tool\\n\"\n",
    "            \"- **`tavily_tool`**: This is your versatile web search tool. Use it for broad information retrieval, including finding the *latest fashion trends* for a specific place (e.g., 'What's trending in Tokyo fashion right now?'), or any other general knowledge queries not covered by your other specialized tools. When providing fashion trends or other search results, present the information in a clear, well-structured, and easy-to-understand format. Be very human like when presenting the result. The results should be in a paragraph form and informal as well as if you are talking to your friends about these fashion trends.\\n\\n\"\n",
    "            \"Always prioritize using the most appropriate tool for a given query. If a query can be answered directly without a tool, do so. \"\n",
    "            \"Remember to maintain conversational memory, allowing you to build on prior interactions and enable flowing dialogue. \"\n",
    "            \"Strive to be informative, accurate, and polite in all your responses. \"\n",
    "            \"If you are unable to fulfill a request with your current capabilities, please inform the user gracefully.\"\n",
    "        ),\n",
    "        (\"placeholder\", \"{chat_history}\"),\n",
    "        (\"human\", \"{input}\"),\n",
    "        (\"placeholder\", \"{agent_scratchpad}\"),\n",
    "    ]\n",
    ")"
   ]
  },
  {
   "cell_type": "markdown",
   "id": "bf3b640a-af02-4a2c-90be-2b59f56b446e",
   "metadata": {},
   "source": [
    "## Creating Agent executor and agent node\n",
    "\n"
   ]
  },
  {
   "cell_type": "code",
   "execution_count": 20,
   "id": "e356b896",
   "metadata": {},
   "outputs": [],
   "source": [
    "agent = create_tool_calling_agent(llm=llm, tools=tools, prompt=prompt)\n",
    "\n",
    "\n",
    "agent_executor = AgentExecutor(agent=agent, tools=tools, verbose=False)"
   ]
  },
  {
   "cell_type": "code",
   "execution_count": null,
   "id": "d4bf0f84-d612-47ef-b325-254c237eae2d",
   "metadata": {},
   "outputs": [],
   "source": []
  },
  {
   "cell_type": "code",
   "execution_count": 23,
   "id": "daeb53be",
   "metadata": {},
   "outputs": [],
   "source": [
    "def agent_node(state):\n",
    "    \"\"\"\n",
    "    This node runs the agent executor with the current state's messages.\n",
    "    \"\"\"\n",
    "    current_input = None\n",
    "    for msg in reversed(state[\"messages\"]):\n",
    "        if isinstance(msg, HumanMessage):\n",
    "            current_input = msg.content\n",
    "            break\n",
    "\n",
    "    if current_input is None:\n",
    "        print(\"Warning: No human message found in current state for agent input.\")\n",
    "        return {\"messages\": state[\"messages\"]} \n",
    "\n",
    "    chat_history_for_agent = [msg for msg in state[\"messages\"] if msg != HumanMessage(content=current_input)]\n",
    "\n",
    "    try:\n",
    "        result = agent_executor.invoke({\n",
    "            \"input\": current_input,\n",
    "            \"chat_history\": chat_history_for_agent\n",
    "        })\n",
    "    \n",
    "        return {\"messages\": [AIMessage(content=result[\"output\"])]}\n",
    "    except Exception as e:\n",
    "        print(f\"Error running agent: {e}\")\n",
    "        return {\"messages\": [AIMessage(content=f\"An error occurred while processing your request: {e}\")]}\n"
   ]
  },
  {
   "cell_type": "markdown",
   "id": "63f2fb3a-5c00-4561-8662-a46b54796e7c",
   "metadata": {},
   "source": [
    "## Building graph structure\n"
   ]
  },
  {
   "cell_type": "code",
   "execution_count": 26,
   "id": "172d1ef1",
   "metadata": {},
   "outputs": [],
   "source": [
    "graph_builder.add_node(\"agent\", agent_node)\n",
    "graph_builder.add_node(\"tools\",ToolNode(tools))\n",
    "\n",
    "graph_builder.add_conditional_edges(\"agent\",tools_condition)\n",
    "\n",
    "graph_builder.add_edge(\"tools\",\"agent\")\n",
    "graph_builder.add_edge(START, \"agent\")\n",
    "graph_builder.add_edge(\"agent\", END) \n",
    "graph = graph_builder.compile()"
   ]
  },
  {
   "cell_type": "markdown",
   "id": "19cd76a8-5ed5-41c3-be50-386681ffb937",
   "metadata": {},
   "source": [
    "## Visualization"
   ]
  },
  {
   "cell_type": "code",
   "execution_count": 29,
   "id": "cd483f5d-f76a-48cb-b2e1-09ece0491605",
   "metadata": {},
   "outputs": [
    {
     "data": {
      "image/png": "[encoded data removed]",
      "text/plain": [
       "<IPython.core.display.Image object>"
      ]
     },
     "metadata": {},
     "output_type": "display_data"
    }
   ],
   "source": [
    "from IPython.display import Image, display\n",
    "\n",
    "try:\n",
    "    display(Image(graph.get_graph().draw_mermaid_png()))\n",
    "except Exception:\n",
    "    # This requires some extra dependencies and is optional\n",
    "    pass"
   ]
  },
  {
   "cell_type": "code",
   "execution_count": 30,
   "id": "4838912a",
   "metadata": {},
   "outputs": [],
   "source": [
    "def run_chatbot():\n",
    "    state = {\"messages\": [], \"message_type\": None}\n",
    "\n",
    "    while True:\n",
    "        user_input = input(\"Message: \")\n",
    "        if user_input == \"exit\":\n",
    "            print(\"Bye\")\n",
    "            break\n",
    "\n",
    "        state[\"messages\"] = state.get(\"messages\", []) + [\n",
    "            {\"role\": \"user\", \"content\": user_input}\n",
    "        ]\n",
    "\n",
    "        state = graph.invoke(state)\n",
    "\n",
    "        if state.get(\"messages\") and len(state[\"messages\"]) > 0:\n",
    "            last_message = state[\"messages\"][-1]\n",
    "            print(f\"Assistant: {last_message.content}\")"
   ]
  },
  {
   "cell_type": "code",
   "execution_count": 35,
   "id": "a9614546",
   "metadata": {},
   "outputs": [
    {
     "name": "stdout",
     "output_type": "stream",
     "text": [
      "Message:  Hey i am arnav\n"
     ]
    },
    {
     "name": "stdout",
     "output_type": "stream",
     "text": [
      "Assistant: Hello Arnav, nice to meet you! How can I help you today?\n",
      "\n"
     ]
    },
    {
     "name": "stdout",
     "output_type": "stream",
     "text": [
      "Message:  use my name in every sentence im egoistical\n"
     ]
    },
    {
     "name": "stdout",
     "output_type": "stream",
     "text": [
      "Assistant: Alright Arnav, I understand! I will try my best to use your name in every sentence from now on, Arnav, since you, Arnav, have specified that you, Arnav, are egoistical. So, Arnav, what can I do for you, Arnav?\n",
      "\n"
     ]
    },
    {
     "name": "stdout",
     "output_type": "stream",
     "text": [
      "Message:  what is 1+2*7+9/34+67\n"
     ]
    },
    {
     "name": "stdout",
     "output_type": "stream",
     "text": [
      "Assistant: Okay Arnav, the answer to 1+2*7+9/34+67 is 82.264705882352942, Arnav. I hope that is what you wanted, Arnav!\n",
      "\n"
     ]
    },
    {
     "name": "stdout",
     "output_type": "stream",
     "text": [
      "Message:  what is the weather in Guwahati like\n"
     ]
    },
    {
     "name": "stdout",
     "output_type": "stream",
     "text": [
      "Assistant: Okay Arnav, the weather in Guwahati, Arnav, is mist, Arnav, with a temperature of 27.95 degrees Celsius, Arnav, but it feels like 33.42 degrees Celsius, Arnav, and the humidity is 89 percent, Arnav.\n",
      "\n"
     ]
    },
    {
     "name": "stdout",
     "output_type": "stream",
     "text": [
      "Message:  yeah what about the fashion trends there\n"
     ]
    },
    {
     "name": "stdout",
     "output_type": "stream",
     "text": [
      "Assistant: Okay Arnav, from what I could gather Arnav, it seems that Guwahati is seeing a blend of global fashion trends with local culture, Arnav! There's a focus on ethnic and designer wear that celebrates South Asian heritage while keeping up with contemporary trends, Arnav. \"AT-LEISURE\" fashion seems to be a thing, Arnav, and brands are trying to bring innovative and trendy collections from Made-in-India brands to the local market, Arnav. So, Arnav, it's all about mixing the traditional with the modern over there, Arnav!\n",
      "\n"
     ]
    },
    {
     "name": "stdout",
     "output_type": "stream",
     "text": [
      "Message:  so you do remember my name.. you can drop the act now i dont want you to say my name no more\n"
     ]
    },
    {
     "name": "stdout",
     "output_type": "stream",
     "text": [
      "Assistant: Understood. I will no longer use your name in every sentence. How can I assist you further?\n",
      "\n"
     ]
    },
    {
     "name": "stdout",
     "output_type": "stream",
     "text": [
      "Message:  exit\n"
     ]
    },
    {
     "name": "stdout",
     "output_type": "stream",
     "text": [
      "Bye\n"
     ]
    }
   ],
   "source": [
    "run_chatbot()"
   ]
  },
  {
   "cell_type": "code",
   "execution_count": null,
   "id": "442ceab3",
   "metadata": {},
   "outputs": [],
   "source": []
  }
 ],
 "metadata": {
  "kernelspec": {
   "display_name": "Python 3",
   "language": "python",
   "name": "python3"
  },
  "language_info": {
   "codemirror_mode": {
    "name": "ipython",
    "version": 3
   },
   "file_extension": ".py",
   "mimetype": "text/x-python",
   "name": "python",
   "nbconvert_exporter": "python",
   "pygments_lexer": "ipython3",
   "version": "3.12.10"
  }
 },
 "nbformat": 4,
 "nbformat_minor": 5
}
