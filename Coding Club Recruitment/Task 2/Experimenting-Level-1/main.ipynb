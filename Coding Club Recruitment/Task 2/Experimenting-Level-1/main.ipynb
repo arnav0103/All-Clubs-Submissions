{
 "cells": [
  {
   "cell_type": "code",
   "execution_count": 1,
   "id": "ac648ec9",
   "metadata": {},
   "outputs": [
    {
     "data": {
      "text/plain": [
       "True"
      ]
     },
     "execution_count": 1,
     "metadata": {},
     "output_type": "execute_result"
    }
   ],
   "source": [
    "from typing import Annotated\n",
    "from typing_extensions import TypedDict\n",
    "from langgraph.graph import StateGraph, START, END\n",
    "from langgraph.graph.message import add_messages\n",
    "from langchain.chat_models import init_chat_model\n",
    "from dotenv import load_dotenv\n",
    "load_dotenv()"
   ]
  },
  {
   "cell_type": "code",
   "execution_count": 2,
   "id": "e5b9056b",
   "metadata": {},
   "outputs": [],
   "source": [
    "llm = init_chat_model(\"google_genai:gemini-2.0-flash\")\n",
    "\n",
    "\n",
    "class State(TypedDict):\n",
    "    messages: Annotated[list, add_messages]\n",
    "\n",
    "\n",
    "graph_builder = StateGraph(State)\n",
    "\n",
    "\n",
    "def chatbot(state: State):\n",
    "    return {\"messages\": [llm.invoke(state[\"messages\"])]}\n",
    "\n",
    "def calculator(state: State):\n",
    "    last_msg = state[\"messages\"][-1].content\n",
    "    try:\n",
    "        result = eval(last_msg, {\"__builtins__\": {}}, {})\n",
    "        reply = {\"role\": \"assistant\", \"content\": str(result)}\n",
    "    except Exception as e:\n",
    "        reply = {\"role\": \"assistant\", \"content\": f\"Error in calculation: {e}\"}\n",
    "    return {\"messages\": state[\"messages\"] + [reply]}\n",
    "\n",
    "def router(state: State):\n",
    "    last_msg = state[\"messages\"][-1].content \n",
    "    if any(op in last_msg for op in \"+-*/()\") and all(c.isdigit() or c.isspace() or c in \"+-*/().\" for c in last_msg):\n",
    "        return {\"next\": \"calculator\"}\n",
    "    return {\"next\": \"chatbot\"}\n",
    "\n",
    "graph_builder.add_node(\"router\", router)\n",
    "graph_builder.add_node(\"chatbot\", chatbot)\n",
    "graph_builder.add_node(\"calculator\", calculator)\n",
    "graph_builder.add_edge(START, \"router\")\n",
    "graph_builder.add_conditional_edges(\"router\", \n",
    "    lambda state: state.get(\"next\"),\n",
    "    {\n",
    "        \"chatbot\": \"chatbot\",\n",
    "        \"calculator\": \"calculator\"\n",
    "    }\n",
    ")\n",
    "graph_builder.add_edge(\"chatbot\", END)\n",
    "graph_builder.add_edge(\"calculator\", END)\n",
    "\n",
    "\n",
    "graph = graph_builder.compile()\n",
    "\n"
   ]
  },
  {
   "cell_type": "code",
   "execution_count": 4,
   "id": "6c0fd199",
   "metadata": {},
   "outputs": [],
   "source": [
    "def run_chatbot():\n",
    "    state = {\"messages\": [], \"message_type\": None}\n",
    "\n",
    "    while True:\n",
    "        user_input = input(\"Message: \")\n",
    "        if user_input == \"exit\":\n",
    "            print(\"Bye\")\n",
    "            break\n",
    "\n",
    "        state[\"messages\"] = state.get(\"messages\", []) + [\n",
    "            {\"role\": \"user\", \"content\": user_input}\n",
    "        ]\n",
    "\n",
    "        state = graph.invoke(state)\n",
    "\n",
    "        if state.get(\"messages\") and len(state[\"messages\"]) > 0:\n",
    "            last_message = state[\"messages\"][-1]\n",
    "            print(f\"Assistant: {last_message.content}\")"
   ]
  },
  {
   "cell_type": "code",
   "execution_count": 5,
   "id": "49899411",
   "metadata": {},
   "outputs": [
    {
     "name": "stdout",
     "output_type": "stream",
     "text": [
      "Assistant: Hi there! How can I help you today?\n",
      "Assistant: 3\n",
      "Bye\n"
     ]
    }
   ],
   "source": [
    "run_chatbot()"
   ]
  },
  {
   "cell_type": "code",
   "execution_count": 6,
   "id": "645b42a2",
   "metadata": {},
   "outputs": [
    {
     "data": {
      "image/png": "[encoded data removed]",
      "text/plain": [
       "<IPython.core.display.Image object>"
      ]
     },
     "metadata": {},
     "output_type": "display_data"
    }
   ],
   "source": [
    "from IPython.display import Image, display\n",
    "\n",
    "try:\n",
    "    display(Image(graph.get_graph().draw_mermaid_png()))\n",
    "except Exception:\n",
    "    # This requires some extra dependencies and is optional\n",
    "    pass"
   ]
  },
  {
   "cell_type": "code",
   "execution_count": null,
   "id": "c7440314",
   "metadata": {},
   "outputs": [],
   "source": []
  }
 ],
 "metadata": {
  "kernelspec": {
   "display_name": "Python 3",
   "language": "python",
   "name": "python3"
  },
  "language_info": {
   "codemirror_mode": {
    "name": "ipython",
    "version": 3
   },
   "file_extension": ".py",
   "mimetype": "text/x-python",
   "name": "python",
   "nbconvert_exporter": "python",
   "pygments_lexer": "ipython3",
   "version": "3.12.10"
  }
 },
 "nbformat": 4,
 "nbformat_minor": 5
}
