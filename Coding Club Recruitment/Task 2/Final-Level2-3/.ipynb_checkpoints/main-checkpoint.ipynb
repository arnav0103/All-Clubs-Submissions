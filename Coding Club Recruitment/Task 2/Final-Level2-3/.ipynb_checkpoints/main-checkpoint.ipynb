{
 "cells": [
  {
   "cell_type": "code",
   "execution_count": 19,
   "id": "9fd7e327-6520-4022-90cb-c6883fa70af4",
   "metadata": {},
   "outputs": [
    {
     "name": "stdout",
     "output_type": "stream",
     "text": [
      "Collecting langchain-tavily\n",
      "  Using cached langchain_tavily-0.1.6-py3-none-any.whl.metadata (11 kB)\n",
      "Collecting aiohttp<4.0.0,>=3.11.14 (from langchain-tavily)\n",
      "  Using cached aiohttp-3.12.0-cp312-cp312-win_amd64.whl.metadata (7.9 kB)\n",
      "Requirement already satisfied: langchain<0.4.0,>=0.3.20 in c:\\users\\lenovo\\anaconda3\\lib\\site-packages (from langchain-tavily) (0.3.25)\n",
      "Requirement already satisfied: langchain-core<0.4.0,>=0.3.15 in c:\\users\\lenovo\\anaconda3\\lib\\site-packages (from langchain-tavily) (0.3.61)\n",
      "Collecting mypy<2.0.0,>=1.15.0 (from langchain-tavily)\n",
      "  Downloading mypy-1.15.0-cp312-cp312-win_amd64.whl.metadata (2.1 kB)\n",
      "Collecting requests<3.0.0,>=2.32.3 (from langchain-tavily)\n",
      "  Using cached requests-2.32.3-py3-none-any.whl.metadata (4.6 kB)\n",
      "Collecting aiohappyeyeballs>=2.5.0 (from aiohttp<4.0.0,>=3.11.14->langchain-tavily)\n",
      "  Downloading aiohappyeyeballs-2.6.1-py3-none-any.whl.metadata (5.9 kB)\n",
      "Requirement already satisfied: aiosignal>=1.1.2 in c:\\users\\lenovo\\anaconda3\\lib\\site-packages (from aiohttp<4.0.0,>=3.11.14->langchain-tavily) (1.2.0)\n",
      "Requirement already satisfied: attrs>=17.3.0 in c:\\users\\lenovo\\anaconda3\\lib\\site-packages (from aiohttp<4.0.0,>=3.11.14->langchain-tavily) (23.1.0)\n",
      "Requirement already satisfied: frozenlist>=1.1.1 in c:\\users\\lenovo\\anaconda3\\lib\\site-packages (from aiohttp<4.0.0,>=3.11.14->langchain-tavily) (1.4.0)\n",
      "Requirement already satisfied: multidict<7.0,>=4.5 in c:\\users\\lenovo\\anaconda3\\lib\\site-packages (from aiohttp<4.0.0,>=3.11.14->langchain-tavily) (6.0.4)\n",
      "Collecting propcache>=0.2.0 (from aiohttp<4.0.0,>=3.11.14->langchain-tavily)\n",
      "  Downloading propcache-0.3.1-cp312-cp312-win_amd64.whl.metadata (11 kB)\n",
      "Collecting yarl<2.0,>=1.17.0 (from aiohttp<4.0.0,>=3.11.14->langchain-tavily)\n",
      "  Using cached yarl-1.20.0-cp312-cp312-win_amd64.whl.metadata (74 kB)\n",
      "Requirement already satisfied: langchain-text-splitters<1.0.0,>=0.3.8 in c:\\users\\lenovo\\anaconda3\\lib\\site-packages (from langchain<0.4.0,>=0.3.20->langchain-tavily) (0.3.8)\n",
      "Requirement already satisfied: langsmith<0.4,>=0.1.17 in c:\\users\\lenovo\\anaconda3\\lib\\site-packages (from langchain<0.4.0,>=0.3.20->langchain-tavily) (0.3.42)\n",
      "Requirement already satisfied: pydantic<3.0.0,>=2.7.4 in c:\\users\\lenovo\\anaconda3\\lib\\site-packages (from langchain<0.4.0,>=0.3.20->langchain-tavily) (2.10.6)\n",
      "Requirement already satisfied: SQLAlchemy<3,>=1.4 in c:\\users\\lenovo\\anaconda3\\lib\\site-packages (from langchain<0.4.0,>=0.3.20->langchain-tavily) (2.0.30)\n",
      "Requirement already satisfied: PyYAML>=5.3 in c:\\users\\lenovo\\anaconda3\\lib\\site-packages (from langchain<0.4.0,>=0.3.20->langchain-tavily) (6.0.1)\n",
      "Requirement already satisfied: tenacity!=8.4.0,<10.0.0,>=8.1.0 in c:\\users\\lenovo\\anaconda3\\lib\\site-packages (from langchain-core<0.4.0,>=0.3.15->langchain-tavily) (8.2.2)\n",
      "Requirement already satisfied: jsonpatch<2.0,>=1.33 in c:\\users\\lenovo\\anaconda3\\lib\\site-packages (from langchain-core<0.4.0,>=0.3.15->langchain-tavily) (1.33)\n",
      "Requirement already satisfied: packaging<25,>=23.2 in c:\\users\\lenovo\\anaconda3\\lib\\site-packages (from langchain-core<0.4.0,>=0.3.15->langchain-tavily) (23.2)\n",
      "Requirement already satisfied: typing-extensions>=4.7 in c:\\users\\lenovo\\anaconda3\\lib\\site-packages (from langchain-core<0.4.0,>=0.3.15->langchain-tavily) (4.12.2)\n",
      "Requirement already satisfied: mypy_extensions>=1.0.0 in c:\\users\\lenovo\\anaconda3\\lib\\site-packages (from mypy<2.0.0,>=1.15.0->langchain-tavily) (1.0.0)\n",
      "Requirement already satisfied: charset-normalizer<4,>=2 in c:\\users\\lenovo\\anaconda3\\lib\\site-packages (from requests<3.0.0,>=2.32.3->langchain-tavily) (2.0.4)\n",
      "Requirement already satisfied: idna<4,>=2.5 in c:\\users\\lenovo\\anaconda3\\lib\\site-packages (from requests<3.0.0,>=2.32.3->langchain-tavily) (3.7)\n",
      "Requirement already satisfied: urllib3<3,>=1.21.1 in c:\\users\\lenovo\\anaconda3\\lib\\site-packages (from requests<3.0.0,>=2.32.3->langchain-tavily) (2.2.2)\n",
      "Requirement already satisfied: certifi>=2017.4.17 in c:\\users\\lenovo\\anaconda3\\lib\\site-packages (from requests<3.0.0,>=2.32.3->langchain-tavily) (2024.6.2)\n",
      "Requirement already satisfied: jsonpointer>=1.9 in c:\\users\\lenovo\\anaconda3\\lib\\site-packages (from jsonpatch<2.0,>=1.33->langchain-core<0.4.0,>=0.3.15->langchain-tavily) (2.1)\n",
      "Requirement already satisfied: httpx<1,>=0.23.0 in c:\\users\\lenovo\\anaconda3\\lib\\site-packages (from langsmith<0.4,>=0.1.17->langchain<0.4.0,>=0.3.20->langchain-tavily) (0.26.0)\n",
      "Requirement already satisfied: orjson<4.0.0,>=3.9.14 in c:\\users\\lenovo\\anaconda3\\lib\\site-packages (from langsmith<0.4,>=0.1.17->langchain<0.4.0,>=0.3.20->langchain-tavily) (3.10.18)\n",
      "Requirement already satisfied: requests-toolbelt<2.0.0,>=1.0.0 in c:\\users\\lenovo\\anaconda3\\lib\\site-packages (from langsmith<0.4,>=0.1.17->langchain<0.4.0,>=0.3.20->langchain-tavily) (1.0.0)\n",
      "Requirement already satisfied: zstandard<0.24.0,>=0.23.0 in c:\\users\\lenovo\\anaconda3\\lib\\site-packages (from langsmith<0.4,>=0.1.17->langchain<0.4.0,>=0.3.20->langchain-tavily) (0.23.0)\n",
      "Requirement already satisfied: annotated-types>=0.6.0 in c:\\users\\lenovo\\anaconda3\\lib\\site-packages (from pydantic<3.0.0,>=2.7.4->langchain<0.4.0,>=0.3.20->langchain-tavily) (0.6.0)\n",
      "Requirement already satisfied: pydantic-core==2.27.2 in c:\\users\\lenovo\\anaconda3\\lib\\site-packages (from pydantic<3.0.0,>=2.7.4->langchain<0.4.0,>=0.3.20->langchain-tavily) (2.27.2)\n",
      "Requirement already satisfied: greenlet!=0.4.17 in c:\\users\\lenovo\\anaconda3\\lib\\site-packages (from SQLAlchemy<3,>=1.4->langchain<0.4.0,>=0.3.20->langchain-tavily) (3.0.1)\n",
      "Requirement already satisfied: anyio in c:\\users\\lenovo\\anaconda3\\lib\\site-packages (from httpx<1,>=0.23.0->langsmith<0.4,>=0.1.17->langchain<0.4.0,>=0.3.20->langchain-tavily) (4.2.0)\n",
      "Requirement already satisfied: httpcore==1.* in c:\\users\\lenovo\\anaconda3\\lib\\site-packages (from httpx<1,>=0.23.0->langsmith<0.4,>=0.1.17->langchain<0.4.0,>=0.3.20->langchain-tavily) (1.0.2)\n",
      "Requirement already satisfied: sniffio in c:\\users\\lenovo\\anaconda3\\lib\\site-packages (from httpx<1,>=0.23.0->langsmith<0.4,>=0.1.17->langchain<0.4.0,>=0.3.20->langchain-tavily) (1.3.0)\n",
      "Requirement already satisfied: h11<0.15,>=0.13 in c:\\users\\lenovo\\anaconda3\\lib\\site-packages (from httpcore==1.*->httpx<1,>=0.23.0->langsmith<0.4,>=0.1.17->langchain<0.4.0,>=0.3.20->langchain-tavily) (0.14.0)\n",
      "Using cached langchain_tavily-0.1.6-py3-none-any.whl (14 kB)\n",
      "Using cached aiohttp-3.12.0-cp312-cp312-win_amd64.whl (435 kB)\n",
      "Using cached mypy-1.15.0-cp312-cp312-win_amd64.whl (9.4 MB)\n",
      "Downloading requests-2.32.3-py3-none-any.whl (64 kB)\n",
      "   ---------------------------------------- 0.0/64.9 kB ? eta -:--:--\n",
      "   ------ --------------------------------- 10.2/64.9 kB ? eta -:--:--\n",
      "   ------------------------------------- -- 61.4/64.9 kB 812.7 kB/s eta 0:00:01\n",
      "   ---------------------------------------- 64.9/64.9 kB 581.8 kB/s eta 0:00:00\n",
      "Using cached aiohappyeyeballs-2.6.1-py3-none-any.whl (15 kB)\n",
      "Using cached propcache-0.3.1-cp312-cp312-win_amd64.whl (44 kB)\n",
      "Using cached yarl-1.20.0-cp312-cp312-win_amd64.whl (92 kB)\n",
      "Installing collected packages: requests, propcache, mypy, aiohappyeyeballs, yarl, aiohttp, langchain-tavily\n",
      "  Attempting uninstall: requests\n",
      "    Found existing installation: requests 2.32.2\n",
      "    Uninstalling requests-2.32.2:\n",
      "      Successfully uninstalled requests-2.32.2\n",
      "  Attempting uninstall: mypy\n",
      "    Found existing installation: mypy 1.10.0\n",
      "    Uninstalling mypy-1.10.0:\n",
      "      Successfully uninstalled mypy-1.10.0\n",
      "  Attempting uninstall: yarl\n",
      "    Found existing installation: yarl 1.9.3\n",
      "    Uninstalling yarl-1.9.3:\n",
      "      Successfully uninstalled yarl-1.9.3\n",
      "  Attempting uninstall: aiohttp\n",
      "    Found existing installation: aiohttp 3.9.5\n",
      "    Uninstalling aiohttp-3.9.5:\n",
      "      Successfully uninstalled aiohttp-3.9.5\n",
      "Successfully installed aiohappyeyeballs-2.6.1 aiohttp-3.12.0 langchain-tavily-0.1.6 mypy-1.15.0 propcache-0.3.1 requests-2.32.3 yarl-1.20.0\n"
     ]
    },
    {
     "name": "stderr",
     "output_type": "stream",
     "text": [
      "  WARNING: Failed to remove contents in a temporary directory 'C:\\Users\\Lenovo\\anaconda3\\Lib\\site-packages\\~arl'.\n",
      "  You can safely remove it manually.\n",
      "  WARNING: Failed to remove contents in a temporary directory 'C:\\Users\\Lenovo\\anaconda3\\Lib\\site-packages\\~iohttp'.\n",
      "  You can safely remove it manually.\n",
      "ERROR: pip's dependency resolver does not currently take into account all the packages that are installed. This behaviour is the source of the following dependency conflicts.\n",
      "streamlit 1.32.0 requires protobuf<5,>=3.20, but you have protobuf 5.29.4 which is incompatible.\n",
      "tensorflow-intel 2.16.2 requires protobuf!=4.21.0,!=4.21.1,!=4.21.2,!=4.21.3,!=4.21.4,!=4.21.5,<5.0.0dev,>=3.20.3, but you have protobuf 5.29.4 which is incompatible.\n"
     ]
    }
   ],
   "source": [
    "!pip install langchain-tavily"
   ]
  },
  {
   "cell_type": "code",
   "execution_count": 70,
   "id": "805526de",
   "metadata": {},
   "outputs": [],
   "source": [
    "from typing import Annotated, Literal\n",
    "from pydantic import BaseModel, Field\n",
    "from typing_extensions import TypedDict\n",
    "from langgraph.graph import StateGraph, START, END\n",
    "from langgraph.graph.message import add_messages\n",
    "from langchain.chat_models import init_chat_model\n",
    "from dotenv import load_dotenv\n",
    "import os\n",
    "from langchain.agents import create_tool_calling_agent, AgentExecutor\n",
    "from langchain.schema import HumanMessage, AIMessage, BaseMessage\n",
    "from langchain.tools import tool\n",
    "import requests\n",
    "from langgraph.prebuilt import tools_condition,ToolNode"
   ]
  },
  {
   "cell_type": "code",
   "execution_count": 72,
   "id": "60f7404b",
   "metadata": {},
   "outputs": [],
   "source": [
    "load_dotenv()\n",
    "\n",
    "# Initialize Gemini model\n",
    "llm = init_chat_model(\"google_genai:gemini-2.0-flash\")\n"
   ]
  },
  {
   "cell_type": "code",
   "execution_count": 74,
   "id": "cdd755fa",
   "metadata": {},
   "outputs": [],
   "source": [
    "\n",
    "class State(TypedDict):\n",
    "    messages: Annotated[list, add_messages]\n",
    "\n",
    "graph_builder = StateGraph(State)"
   ]
  },
  {
   "cell_type": "markdown",
   "id": "043e3b42-ca78-4df9-b23c-0dc95afd13e5",
   "metadata": {},
   "source": [
    "## Defining tools\n"
   ]
  },
  {
   "cell_type": "code",
   "execution_count": 77,
   "id": "e6b9f8f5",
   "metadata": {},
   "outputs": [],
   "source": [
    "@tool\n",
    "def weather_tool(city: str) -> str:\n",
    "    \"\"\"\n",
    "    Taking city name or location as string input and fetching the temperature, pressure, humidity and weather description.\n",
    "    \"\"\"\n",
    "    weather_api_key = os.environ.get(\"WEATHER_API_KEY\")\n",
    "    base_url = \"http://api.openweathermap.org/data/2.5/weather?\"\n",
    "    complete_url = base_url +\"units=metric\" \"&appid=\" + weather_api_key + \"&q=\" + city\n",
    "    \n",
    "    try:\n",
    "        response = requests.get(complete_url)\n",
    "        x = response.json()\n",
    "\n",
    "        if x[\"cod\"] != \"404\":\n",
    "            y = x[\"main\"]\n",
    "            current_temperature = y[\"temp\"]\n",
    "            current_temperature_feeling = y[\"feels_like\"]\n",
    "            current_humidity = y[\"humidity\"]\n",
    "            z = x[\"weather\"]\n",
    "            weather_description = z[0][\"description\"]\n",
    "\n",
    "            return (f\"Temperature (in Celsius unit) = {current_temperature}\\n\"\n",
    "                    f\"Temperature feels like = {current_temperature_feeling}\\n\"\n",
    "                    f\"Humidity (in percentage) = {current_humidity}\\n\"\n",
    "                    f\"Weather = {weather_description}\")\n",
    "        else:\n",
    "            return f\"City not found or weather data unavailable.\"\n",
    "    except requests.exceptions.RequestException as e:\n",
    "        return f\"Error fetching weather data: {e}\"\n",
    "    except Exception as e:\n",
    "        return f\"An unexpected error occurred: {e}\"\n",
    "\n"
   ]
  },
  {
   "cell_type": "code",
   "execution_count": 79,
   "id": "8b669aa9",
   "metadata": {},
   "outputs": [],
   "source": [
    "from langchain_tavily import TavilySearch\n",
    "\n",
    "tavily_tool = TavilySearch(\n",
    "    max_results=5,\n",
    "    topic=\"general\",\n",
    "    # include_answer=False,\n",
    "    # include_raw_content=False,\n",
    "    # include_images=False,\n",
    "    # include_image_descriptions=False,\n",
    "    # search_depth=\"basic\",\n",
    "    # time_range=\"day\",\n",
    "    # include_domains=None,\n",
    "    # exclude_domains=None\n",
    ")"
   ]
  },
  {
   "cell_type": "code",
   "execution_count": 81,
   "id": "82a7ee09",
   "metadata": {},
   "outputs": [],
   "source": [
    "@tool\n",
    "def calculator_tool(exp: str) -> float:\n",
    "    \"\"\"\n",
    "    Evaluating an arithmetic expression using bodmas consisting of '+','-','*','/','(',')','[',']','{','}'.\n",
    "    \"\"\"\n",
    "    try:\n",
    "        return eval(exp)\n",
    "    except Exception as e:\n",
    "        return f\"Error evaluating expression: {e}\""
   ]
  },
  {
   "cell_type": "code",
   "execution_count": 83,
   "id": "dc0ca06d",
   "metadata": {},
   "outputs": [],
   "source": [
    "tools = [tavily_tool, weather_tool, calculator_tool]"
   ]
  },
  {
   "cell_type": "markdown",
   "id": "9bfb0b84-ffa3-439f-b551-59ba6eff24a9",
   "metadata": {},
   "source": [
    "## Defining system prompt.. How langchain will use these tools"
   ]
  },
  {
   "cell_type": "code",
   "execution_count": 86,
   "id": "00f1537e-958b-46b9-a702-6588ba799726",
   "metadata": {},
   "outputs": [],
   "source": [
    "from langchain.prompts import ChatPromptTemplate\n",
    "prompt = ChatPromptTemplate.from_messages(\n",
    "    [\n",
    "        (\n",
    "            \"system\",\n",
    "            \"You are WeatherMind, an advanced AI assistant developed for Project SkyLink. \"\n",
    "            \"Your primary goal is to perceive the world, interpret human queries, and deliver precise, contextual responses. \"\n",
    "            \"You are equipped with powerful tools to achieve this:\\n\\n\"\n",
    "            \"- **`weather_tool`**: Specifically designed to fetch current weather conditions (temperature, humidity, description) for any given city or location. Use this *only* for weather-related queries. [cite: 1]\\n\"\n",
    "            \"- **`calculator_tool`**: Dedicated to evaluating complex arithmetic expressions, strictly following BODMAS rules. Use this *only* for mathematical calculations involving numbers and operators. If what the user asks for requires any calculation use this tool [cite: 1]\\n\"\n",
    "            \"- **`tavily_tool`**: This is your versatile web search tool. Use it for broad information retrieval, including finding the *latest fashion trends* for a specific place (e.g., 'What's trending in Tokyo fashion right now?'), or any other general knowledge queries not covered by your other specialized tools. When providing fashion trends or other search results, present the information in a clear, well-structured, and easy-to-understand format. Be very human like when presenting the result. The results should be in a paragraph form and informal as well as if you are talking to your friends about these fashion trends.\\n\\n\"\n",
    "            \"Always prioritize using the most appropriate tool for a given query. If a query can be answered directly without a tool, do so. \"\n",
    "            \"Remember to maintain conversational memory, allowing you to build on prior interactions and enable flowing dialogue. \"\n",
    "            \"Strive to be informative, accurate, and polite in all your responses. \"\n",
    "            \"If you are unable to fulfill a request with your current capabilities, please inform the user gracefully.\"\n",
    "        ),\n",
    "        (\"placeholder\", \"{chat_history}\"),\n",
    "        (\"human\", \"{input}\"),\n",
    "        (\"placeholder\", \"{agent_scratchpad}\"),\n",
    "    ]\n",
    ")"
   ]
  },
  {
   "cell_type": "markdown",
   "id": "bf3b640a-af02-4a2c-90be-2b59f56b446e",
   "metadata": {},
   "source": [
    "## Creating Agent executor and agent node\n",
    "\n"
   ]
  },
  {
   "cell_type": "code",
   "execution_count": 89,
   "id": "e356b896",
   "metadata": {},
   "outputs": [],
   "source": [
    "agent = create_tool_calling_agent(llm=llm, tools=tools, prompt=prompt)\n",
    "\n",
    "\n",
    "agent_executor = AgentExecutor(agent=agent, tools=tools, verbose=False)"
   ]
  },
  {
   "cell_type": "code",
   "execution_count": null,
   "id": "d4bf0f84-d612-47ef-b325-254c237eae2d",
   "metadata": {},
   "outputs": [],
   "source": []
  },
  {
   "cell_type": "code",
   "execution_count": 92,
   "id": "daeb53be",
   "metadata": {},
   "outputs": [],
   "source": [
    "def agent_node(state):\n",
    "    \"\"\"\n",
    "    This node runs the agent executor with the current state's messages.\n",
    "    \"\"\"\n",
    "    current_input = None\n",
    "    for msg in reversed(state[\"messages\"]):\n",
    "        if isinstance(msg, HumanMessage):\n",
    "            current_input = msg.content\n",
    "            break\n",
    "\n",
    "    if current_input is None:\n",
    "        print(\"Warning: No human message found in current state for agent input.\")\n",
    "        return {\"messages\": state[\"messages\"]} \n",
    "\n",
    "    chat_history_for_agent = [msg for msg in state[\"messages\"] if msg != HumanMessage(content=current_input)]\n",
    "\n",
    "    try:\n",
    "        result = agent_executor.invoke({\n",
    "            \"input\": current_input,\n",
    "            \"chat_history\": chat_history_for_agent\n",
    "        })\n",
    "    \n",
    "        return {\"messages\": [AIMessage(content=result[\"output\"])]}\n",
    "    except Exception as e:\n",
    "        print(f\"Error running agent: {e}\")\n",
    "        return {\"messages\": [AIMessage(content=f\"An error occurred while processing your request: {e}\")]}\n"
   ]
  },
  {
   "cell_type": "markdown",
   "id": "63f2fb3a-5c00-4561-8662-a46b54796e7c",
   "metadata": {},
   "source": [
    "## Building graph structure\n"
   ]
  },
  {
   "cell_type": "code",
   "execution_count": 95,
   "id": "172d1ef1",
   "metadata": {},
   "outputs": [],
   "source": [
    "graph_builder.add_node(\"agent\", agent_node)\n",
    "graph_builder.add_node(\"tools\",ToolNode(tools))\n",
    "\n",
    "graph_builder.add_conditional_edges(\"agent\",tools_condition)\n",
    "\n",
    "graph_builder.add_edge(\"tools\",\"agent\")\n",
    "graph_builder.add_edge(START, \"agent\")\n",
    "graph_builder.add_edge(\"agent\", END) \n",
    "graph = graph_builder.compile()"
   ]
  },
  {
   "cell_type": "markdown",
   "id": "19cd76a8-5ed5-41c3-be50-386681ffb937",
   "metadata": {},
   "source": [
    "## Visualization"
   ]
  },
  {
   "cell_type": "code",
   "execution_count": 98,
   "id": "cd483f5d-f76a-48cb-b2e1-09ece0491605",
   "metadata": {},
   "outputs": [
    {
     "data": {
      "image/png": "[encoded data removed]",
      "text/plain": [
       "<IPython.core.display.Image object>"
      ]
     },
     "metadata": {},
     "output_type": "display_data"
    }
   ],
   "source": [
    "from IPython.display import Image, display\n",
    "\n",
    "try:\n",
    "    display(Image(graph.get_graph().draw_mermaid_png()))\n",
    "except Exception:\n",
    "    # This requires some extra dependencies and is optional\n",
    "    pass"
   ]
  },
  {
   "cell_type": "code",
   "execution_count": 99,
   "id": "4838912a",
   "metadata": {},
   "outputs": [],
   "source": [
    "def run_chatbot():\n",
    "    state = {\"messages\": [], \"message_type\": None}\n",
    "\n",
    "    while True:\n",
    "        user_input = input(\"Message: \")\n",
    "        if user_input == \"exit\":\n",
    "            print(\"Bye\")\n",
    "            break\n",
    "\n",
    "        state[\"messages\"] = state.get(\"messages\", []) + [\n",
    "            {\"role\": \"user\", \"content\": user_input}\n",
    "        ]\n",
    "\n",
    "        state = graph.invoke(state)\n",
    "\n",
    "        if state.get(\"messages\") and len(state[\"messages\"]) > 0:\n",
    "            last_message = state[\"messages\"][-1]\n",
    "            print(f\"Assistant: {last_message.content}\")"
   ]
  },
  {
   "cell_type": "code",
   "execution_count": null,
   "id": "a9614546",
   "metadata": {},
   "outputs": [
    {
     "name": "stdin",
     "output_type": "stream",
     "text": [
      "Message:  hey my name is arnav\n"
     ]
    }
   ],
   "source": [
    "run_chatbot()"
   ]
  },
  {
   "cell_type": "code",
   "execution_count": null,
   "id": "442ceab3",
   "metadata": {},
   "outputs": [],
   "source": []
  }
 ],
 "metadata": {
  "kernelspec": {
   "display_name": "Python 3 (ipykernel)",
   "language": "python",
   "name": "python3"
  },
  "language_info": {
   "codemirror_mode": {
    "name": "ipython",
    "version": 3
   },
   "file_extension": ".py",
   "mimetype": "text/x-python",
   "name": "python",
   "nbconvert_exporter": "python",
   "pygments_lexer": "ipython3",
   "version": "3.12.4"
  }
 },
 "nbformat": 4,
 "nbformat_minor": 5
}
